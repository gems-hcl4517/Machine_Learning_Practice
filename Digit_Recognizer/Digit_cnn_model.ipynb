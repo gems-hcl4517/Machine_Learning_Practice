{
 "cells": [
  {
   "cell_type": "code",
   "execution_count": 45,
   "id": "bXEvWb0JHXC7",
   "metadata": {
    "colab": {
     "base_uri": "https://localhost:8080/",
     "height": 108
    },
    "id": "bXEvWb0JHXC7",
    "outputId": "794ff024-d2f4-4aa2-e939-a37aed702745"
   },
   "outputs": [
    {
     "data": {
      "text/html": [
       "\n",
       "     <input type=\"file\" id=\"files-df5fe1e8-dbd3-4d22-9277-18656ba8157c\" name=\"files[]\" multiple disabled\n",
       "        style=\"border:none\" />\n",
       "     <output id=\"result-df5fe1e8-dbd3-4d22-9277-18656ba8157c\">\n",
       "      Upload widget is only available when the cell has been executed in the\n",
       "      current browser session. Please rerun this cell to enable.\n",
       "      </output>\n",
       "      <script>// Copyright 2017 Google LLC\n",
       "//\n",
       "// Licensed under the Apache License, Version 2.0 (the \"License\");\n",
       "// you may not use this file except in compliance with the License.\n",
       "// You may obtain a copy of the License at\n",
       "//\n",
       "//      http://www.apache.org/licenses/LICENSE-2.0\n",
       "//\n",
       "// Unless required by applicable law or agreed to in writing, software\n",
       "// distributed under the License is distributed on an \"AS IS\" BASIS,\n",
       "// WITHOUT WARRANTIES OR CONDITIONS OF ANY KIND, either express or implied.\n",
       "// See the License for the specific language governing permissions and\n",
       "// limitations under the License.\n",
       "\n",
       "/**\n",
       " * @fileoverview Helpers for google.colab Python module.\n",
       " */\n",
       "(function(scope) {\n",
       "function span(text, styleAttributes = {}) {\n",
       "  const element = document.createElement('span');\n",
       "  element.textContent = text;\n",
       "  for (const key of Object.keys(styleAttributes)) {\n",
       "    element.style[key] = styleAttributes[key];\n",
       "  }\n",
       "  return element;\n",
       "}\n",
       "\n",
       "// Max number of bytes which will be uploaded at a time.\n",
       "const MAX_PAYLOAD_SIZE = 100 * 1024;\n",
       "\n",
       "function _uploadFiles(inputId, outputId) {\n",
       "  const steps = uploadFilesStep(inputId, outputId);\n",
       "  const outputElement = document.getElementById(outputId);\n",
       "  // Cache steps on the outputElement to make it available for the next call\n",
       "  // to uploadFilesContinue from Python.\n",
       "  outputElement.steps = steps;\n",
       "\n",
       "  return _uploadFilesContinue(outputId);\n",
       "}\n",
       "\n",
       "// This is roughly an async generator (not supported in the browser yet),\n",
       "// where there are multiple asynchronous steps and the Python side is going\n",
       "// to poll for completion of each step.\n",
       "// This uses a Promise to block the python side on completion of each step,\n",
       "// then passes the result of the previous step as the input to the next step.\n",
       "function _uploadFilesContinue(outputId) {\n",
       "  const outputElement = document.getElementById(outputId);\n",
       "  const steps = outputElement.steps;\n",
       "\n",
       "  const next = steps.next(outputElement.lastPromiseValue);\n",
       "  return Promise.resolve(next.value.promise).then((value) => {\n",
       "    // Cache the last promise value to make it available to the next\n",
       "    // step of the generator.\n",
       "    outputElement.lastPromiseValue = value;\n",
       "    return next.value.response;\n",
       "  });\n",
       "}\n",
       "\n",
       "/**\n",
       " * Generator function which is called between each async step of the upload\n",
       " * process.\n",
       " * @param {string} inputId Element ID of the input file picker element.\n",
       " * @param {string} outputId Element ID of the output display.\n",
       " * @return {!Iterable<!Object>} Iterable of next steps.\n",
       " */\n",
       "function* uploadFilesStep(inputId, outputId) {\n",
       "  const inputElement = document.getElementById(inputId);\n",
       "  inputElement.disabled = false;\n",
       "\n",
       "  const outputElement = document.getElementById(outputId);\n",
       "  outputElement.innerHTML = '';\n",
       "\n",
       "  const pickedPromise = new Promise((resolve) => {\n",
       "    inputElement.addEventListener('change', (e) => {\n",
       "      resolve(e.target.files);\n",
       "    });\n",
       "  });\n",
       "\n",
       "  const cancel = document.createElement('button');\n",
       "  inputElement.parentElement.appendChild(cancel);\n",
       "  cancel.textContent = 'Cancel upload';\n",
       "  const cancelPromise = new Promise((resolve) => {\n",
       "    cancel.onclick = () => {\n",
       "      resolve(null);\n",
       "    };\n",
       "  });\n",
       "\n",
       "  // Wait for the user to pick the files.\n",
       "  const files = yield {\n",
       "    promise: Promise.race([pickedPromise, cancelPromise]),\n",
       "    response: {\n",
       "      action: 'starting',\n",
       "    }\n",
       "  };\n",
       "\n",
       "  cancel.remove();\n",
       "\n",
       "  // Disable the input element since further picks are not allowed.\n",
       "  inputElement.disabled = true;\n",
       "\n",
       "  if (!files) {\n",
       "    return {\n",
       "      response: {\n",
       "        action: 'complete',\n",
       "      }\n",
       "    };\n",
       "  }\n",
       "\n",
       "  for (const file of files) {\n",
       "    const li = document.createElement('li');\n",
       "    li.append(span(file.name, {fontWeight: 'bold'}));\n",
       "    li.append(span(\n",
       "        `(${file.type || 'n/a'}) - ${file.size} bytes, ` +\n",
       "        `last modified: ${\n",
       "            file.lastModifiedDate ? file.lastModifiedDate.toLocaleDateString() :\n",
       "                                    'n/a'} - `));\n",
       "    const percent = span('0% done');\n",
       "    li.appendChild(percent);\n",
       "\n",
       "    outputElement.appendChild(li);\n",
       "\n",
       "    const fileDataPromise = new Promise((resolve) => {\n",
       "      const reader = new FileReader();\n",
       "      reader.onload = (e) => {\n",
       "        resolve(e.target.result);\n",
       "      };\n",
       "      reader.readAsArrayBuffer(file);\n",
       "    });\n",
       "    // Wait for the data to be ready.\n",
       "    let fileData = yield {\n",
       "      promise: fileDataPromise,\n",
       "      response: {\n",
       "        action: 'continue',\n",
       "      }\n",
       "    };\n",
       "\n",
       "    // Use a chunked sending to avoid message size limits. See b/62115660.\n",
       "    let position = 0;\n",
       "    do {\n",
       "      const length = Math.min(fileData.byteLength - position, MAX_PAYLOAD_SIZE);\n",
       "      const chunk = new Uint8Array(fileData, position, length);\n",
       "      position += length;\n",
       "\n",
       "      const base64 = btoa(String.fromCharCode.apply(null, chunk));\n",
       "      yield {\n",
       "        response: {\n",
       "          action: 'append',\n",
       "          file: file.name,\n",
       "          data: base64,\n",
       "        },\n",
       "      };\n",
       "\n",
       "      let percentDone = fileData.byteLength === 0 ?\n",
       "          100 :\n",
       "          Math.round((position / fileData.byteLength) * 100);\n",
       "      percent.textContent = `${percentDone}% done`;\n",
       "\n",
       "    } while (position < fileData.byteLength);\n",
       "  }\n",
       "\n",
       "  // All done.\n",
       "  yield {\n",
       "    response: {\n",
       "      action: 'complete',\n",
       "    }\n",
       "  };\n",
       "}\n",
       "\n",
       "scope.google = scope.google || {};\n",
       "scope.google.colab = scope.google.colab || {};\n",
       "scope.google.colab._files = {\n",
       "  _uploadFiles,\n",
       "  _uploadFilesContinue,\n",
       "};\n",
       "})(self);\n",
       "</script> "
      ],
      "text/plain": [
       "<IPython.core.display.HTML object>"
      ]
     },
     "metadata": {},
     "output_type": "display_data"
    },
    {
     "name": "stdout",
     "output_type": "stream",
     "text": [
      "Saving test.csv to test (1).csv\n",
      "Saving train.csv to train (1).csv\n"
     ]
    }
   ],
   "source": [
    "from google.colab import files\n",
    "uploaded = files.upload()"
   ]
  },
  {
   "cell_type": "code",
   "execution_count": 46,
   "id": "Slkcc5JdIR6W",
   "metadata": {
    "colab": {
     "base_uri": "https://localhost:8080/"
    },
    "id": "Slkcc5JdIR6W",
    "outputId": "07f377ad-cdc4-4778-b300-4bf59eb84019"
   },
   "outputs": [
    {
     "name": "stdout",
     "output_type": "stream",
     "text": [
      "Looking in indexes: https://pypi.org/simple, https://us-python.pkg.dev/colab-wheels/public/simple/\n",
      "Requirement already satisfied: livelossplot in /usr/local/lib/python3.8/dist-packages (0.5.5)\n",
      "Requirement already satisfied: matplotlib in /usr/local/lib/python3.8/dist-packages (from livelossplot) (3.2.2)\n",
      "Requirement already satisfied: bokeh in /usr/local/lib/python3.8/dist-packages (from livelossplot) (2.3.3)\n",
      "Requirement already satisfied: PyYAML>=3.10 in /usr/local/lib/python3.8/dist-packages (from bokeh->livelossplot) (6.0)\n",
      "Requirement already satisfied: tornado>=5.1 in /usr/local/lib/python3.8/dist-packages (from bokeh->livelossplot) (6.0.4)\n",
      "Requirement already satisfied: packaging>=16.8 in /usr/local/lib/python3.8/dist-packages (from bokeh->livelossplot) (21.3)\n",
      "Requirement already satisfied: pillow>=7.1.0 in /usr/local/lib/python3.8/dist-packages (from bokeh->livelossplot) (7.1.2)\n",
      "Requirement already satisfied: numpy>=1.11.3 in /usr/local/lib/python3.8/dist-packages (from bokeh->livelossplot) (1.21.6)\n",
      "Requirement already satisfied: python-dateutil>=2.1 in /usr/local/lib/python3.8/dist-packages (from bokeh->livelossplot) (2.8.2)\n",
      "Requirement already satisfied: typing-extensions>=3.7.4 in /usr/local/lib/python3.8/dist-packages (from bokeh->livelossplot) (4.4.0)\n",
      "Requirement already satisfied: Jinja2>=2.9 in /usr/local/lib/python3.8/dist-packages (from bokeh->livelossplot) (2.11.3)\n",
      "Requirement already satisfied: MarkupSafe>=0.23 in /usr/local/lib/python3.8/dist-packages (from Jinja2>=2.9->bokeh->livelossplot) (2.0.1)\n",
      "Requirement already satisfied: pyparsing!=3.0.5,>=2.0.2 in /usr/local/lib/python3.8/dist-packages (from packaging>=16.8->bokeh->livelossplot) (3.0.9)\n",
      "Requirement already satisfied: six>=1.5 in /usr/local/lib/python3.8/dist-packages (from python-dateutil>=2.1->bokeh->livelossplot) (1.15.0)\n",
      "Requirement already satisfied: kiwisolver>=1.0.1 in /usr/local/lib/python3.8/dist-packages (from matplotlib->livelossplot) (1.4.4)\n",
      "Requirement already satisfied: cycler>=0.10 in /usr/local/lib/python3.8/dist-packages (from matplotlib->livelossplot) (0.11.0)\n",
      "No GPU available!\n"
     ]
    }
   ],
   "source": [
    "!pip install livelossplot\n",
    "\n",
    "from sklearn.metrics import accuracy_score\n",
    "from sklearn.model_selection import StratifiedShuffleSplit, train_test_split\n",
    "\n",
    "import matplotlib.pyplot as plt\n",
    "import numpy as np\n",
    "from livelossplot import PlotLosses\n",
    "import pandas as pd\n",
    "\n",
    "import torch\n",
    "import torch.nn as nn\n",
    "import torch.nn.functional as F\n",
    "from torch.autograd import Variable\n",
    "from torch.utils.data import TensorDataset, DataLoader, Subset, Dataset\n",
    "import torchvision.transforms as transforms\n",
    "\n",
    "import random \n",
    "\n",
    "def set_seed(seed):\n",
    "    \"\"\"\n",
    "    Use this to set ALL the random seeds to a fixed value and take out any randomness from cuda kernels\n",
    "    \"\"\"\n",
    "    random.seed(seed)\n",
    "    np.random.seed(seed)\n",
    "    torch.manual_seed(seed)\n",
    "    torch.cuda.manual_seed_all(seed)\n",
    "\n",
    "    torch.backends.cudnn.benchmark = False\n",
    "    torch.backends.cudnn.enabled   = False\n",
    "\n",
    "    return True\n",
    "\n",
    "set_device = 'cpu'\n",
    "if torch.cuda.device_count() > 0 and torch.cuda.is_available():\n",
    "    print(\"Cuda installed! Running on GPU!\")\n",
    "    set_device = 'cuda'\n",
    "else:\n",
    "    print(\"No GPU available!\")"
   ]
  },
  {
   "cell_type": "code",
   "execution_count": 47,
   "id": "HrF4hU_z32gx",
   "metadata": {
    "id": "HrF4hU_z32gx"
   },
   "outputs": [],
   "source": [
    "batch_size = 100\n",
    "set_seed(0)\n",
    "\n",
    "class CSVDataset(Dataset):\n",
    "    def __init__(self, path):\n",
    "        dataset = pd.read_csv(path)\n",
    "        if len(dataset.columns) != (28*28+1):\n",
    "            dataset = pd.concat([pd.DataFrame({'Label': np.zeros(len(dataset.index))}), dataset], axis=1)\n",
    "        assert len(dataset.columns)==28*28+1\n",
    "        self.data = torch.tensor(dataset.iloc[:,1:].applymap(lambda x: x/255).values, \n",
    "                                 dtype=torch.float32).reshape(-1,1,28,28)\n",
    "        self.targets = torch.tensor(dataset.iloc[:,0].values).type(torch.LongTensor)\n",
    "\n",
    "    def __getitem__(self, index):\n",
    "        return self.data[index], self.targets[index]\n",
    "\n",
    "    def __len__(self):\n",
    "        return len(self.targets)\n",
    "\n",
    "train_dataset = CSVDataset('train.csv')\n",
    "pred_dataset = CSVDataset('test.csv')\n",
    "\n",
    "shuffler = StratifiedShuffleSplit(n_splits=1, test_size=0.3).split(train_dataset.data, train_dataset.targets) \n",
    "indices = [(train_idx, validation_idx) for train_idx, validation_idx in shuffler][0]\n",
    "\n",
    "train_loader = DataLoader(Subset(train_dataset,indices[0][:int(len(indices[0])*0.7)]), batch_size=batch_size, num_workers=1, shuffle=True)\n",
    "valid_loader = DataLoader(Subset(train_dataset,indices[0][int(len(indices[0])*0.7):]), batch_size=batch_size*2, num_workers=1, shuffle=True)\n",
    "test_loader = DataLoader(Subset(train_dataset,indices[1]), batch_size=batch_size*2, num_workers=1, shuffle=False)\n",
    "pred_loader = DataLoader(pred_dataset, batch_size=batch_size*2, num_workers=1, shuffle=False)"
   ]
  },
  {
   "cell_type": "code",
   "execution_count": 48,
   "id": "LdUI6cIcJayT",
   "metadata": {
    "id": "LdUI6cIcJayT"
   },
   "outputs": [],
   "source": [
    "class DeepCNN(nn.Module):\n",
    "    def __init__(self, in_chnl=1, hid_chnl1=16, hid_chnl2=32, hid_dims1=256, hid_dims2=128, out_dims=10):\n",
    "        super(DeepCNN, self).__init__()\n",
    "        self.layer1 = nn.Sequential(nn.Conv2d(in_chnl, hid_chnl1, 5, stride=2))  # Dims in 28x28 -> out 12x12\n",
    "        self.layer2 = nn.Sequential(nn.Conv2d(hid_chnl1, hid_chnl2, 5, stride=2))  # Dims in 12x12 -> out 4x4\n",
    "\n",
    "        self.layer3 = nn.Sequential(nn.Linear(hid_chnl2*4*4, hid_dims1))\n",
    "        self.layer4 = nn.Sequential(nn.Linear(hid_dims1, hid_dims2))\n",
    "        self.layer5 = nn.Sequential(nn.Linear(hid_dims2, out_dims))\n",
    "\n",
    "        self.activation = nn.GELU()\n",
    "        self.fin_activation = nn.Tanh()\n",
    "\n",
    "    def forward(self, x):\n",
    "        x = self.activation(self.layer1(x))\n",
    "        x = self.activation(self.layer2(x))\n",
    "\n",
    "        x = x.flatten(start_dim=1)\n",
    "        x = self.activation(self.layer3(x))\n",
    "        x = self.activation(self.layer4(x))\n",
    "\n",
    "        x = self.fin_activation(self.layer5(x))\n",
    "\n",
    "        return x"
   ]
  },
  {
   "cell_type": "code",
   "execution_count": 64,
   "id": "EuUdmgjuP-_q",
   "metadata": {
    "id": "EuUdmgjuP-_q"
   },
   "outputs": [],
   "source": [
    "nb_epoch = 20\n",
    "lrnrate = 1e-3\n",
    "\n",
    "def train(model, dataloader, device=set_device):\n",
    "    optimizer = torch.optim.Adam(model.parameters(), lr=lrnrate)\n",
    "    criterion = nn.CrossEntropyLoss()\n",
    "    model.train()\n",
    "\n",
    "    train_loss, train_accuracy = 1,0\n",
    "\n",
    "    for batch,target in dataloader:\n",
    "\n",
    "        batch, target = batch.to(device), target.to(device)\n",
    "\n",
    "        optimizer.zero_grad()\n",
    "        output = model(batch)\n",
    "        loss = criterion(output,target) \n",
    "        loss.backward() \n",
    "        nn.utils.clip_grad_norm_(model.parameters(),10)\n",
    "        optimizer.step()\n",
    "\n",
    "        pred = output.softmax(dim=1).max(dim=1)[1]\n",
    "\n",
    "        train_loss += loss.detach()*batch.size(0)\n",
    "        train_accuracy += accuracy_score(target.cpu().numpy(), pred.detach().cpu().numpy())*batch.size(0) \n",
    "\n",
    "    return model, train_loss/len(dataloader.dataset), train_accuracy/len(dataloader.dataset)\n",
    "\n",
    "\n",
    "def valid(model, dataloader, device=set_device):\n",
    "    criterion = nn.CrossEntropyLoss()\n",
    "    model.eval()\n",
    "\n",
    "    val_loss, val_accuracy = 0,0\n",
    "\n",
    "    with torch.no_grad():\n",
    "        for batch,target in dataloader:\n",
    "\n",
    "            batch, target = batch.to(device), target.to(device)\n",
    "\n",
    "            output = model(batch)\n",
    "            loss = criterion(output,target)\n",
    "            pred = output.softmax(dim=1).max(dim=1)[1]\n",
    "\n",
    "            val_loss += loss*batch.size(0)\n",
    "            val_accuracy += accuracy_score(target.cpu().numpy(), pred.detach().cpu().numpy())*batch.size(0)\n",
    "\n",
    "    return val_loss/len(dataloader.dataset), val_accuracy/len(dataloader.dataset)"
   ]
  },
  {
   "cell_type": "code",
   "execution_count": 50,
   "id": "CEF4_ULGiLk6",
   "metadata": {
    "colab": {
     "base_uri": "https://localhost:8080/",
     "height": 689
    },
    "id": "CEF4_ULGiLk6",
    "outputId": "1426ee65-d8a2-4f62-e0dd-6d6a77c9236b"
   },
   "outputs": [
    {
     "data": {
      "image/png": "[encoded data removed]",
      "text/plain": [
       "<Figure size 864x576 with 2 Axes>"
      ]
     },
     "metadata": {
      "needs_background": "light"
     },
     "output_type": "display_data"
    },
    {
     "name": "stdout",
     "output_type": "stream",
     "text": [
      "accuracy\n",
      "\ttraining         \t (min:    0.812, max:    0.997, cur:    0.996)\n",
      "\tvalidation       \t (min:    0.929, max:    0.983, cur:    0.982)\n",
      "log loss\n",
      "\ttraining         \t (min:    0.802, max:    1.153, cur:    0.802)\n",
      "\tvalidation       \t (min:    0.826, max:    0.926, cur:    0.826)\n"
     ]
    }
   ],
   "source": [
    "dcnn = DeepCNN().to(set_device)\n",
    "\n",
    "liveloss = PlotLosses()\n",
    "\n",
    "for epoch in range(nb_epoch):\n",
    "    logs = {}\n",
    "    dcnn,train_loss,train_accuracy = train(dcnn, train_loader)\n",
    "    valid_loss,valid_accuracy = valid(dcnn, valid_loader)\n",
    "\n",
    "    logs['' + 'log loss'] = train_loss.item()\n",
    "    logs['' + 'accuracy'] = train_accuracy.item()\n",
    "    \n",
    "    logs['val_' + 'log loss'] = valid_loss.item()\n",
    "    logs['val_' + 'accuracy'] = valid_accuracy.item()\n",
    "\n",
    "    liveloss.update(logs)\n",
    "    liveloss.draw()"
   ]
  },
  {
   "cell_type": "code",
   "execution_count": 51,
   "id": "k0M3-YlmupXx",
   "metadata": {
    "colab": {
     "base_uri": "https://localhost:8080/"
    },
    "id": "k0M3-YlmupXx",
    "outputId": "2a0bcd30-c3cd-4954-d332-8f670f33e994"
   },
   "outputs": [
    {
     "name": "stdout",
     "output_type": "stream",
     "text": [
      "Accuracy: 0.9815079365079366\n"
     ]
    }
   ],
   "source": [
    "print(f'Accuracy: {valid(dcnn, test_loader)[1]}')"
   ]
  },
  {
   "cell_type": "code",
   "execution_count": 62,
   "id": "6sQ0gG1doTcN",
   "metadata": {
    "colab": {
     "base_uri": "https://localhost:8080/",
     "height": 17
    },
    "id": "6sQ0gG1doTcN",
    "outputId": "c32e850a-1d6e-4c28-d96d-70ce5d8bc855"
   },
   "outputs": [
    {
     "data": {
      "application/javascript": [
       "\n",
       "    async function download(id, filename, size) {\n",
       "      if (!google.colab.kernel.accessAllowed) {\n",
       "        return;\n",
       "      }\n",
       "      const div = document.createElement('div');\n",
       "      const label = document.createElement('label');\n",
       "      label.textContent = `Downloading \"${filename}\": `;\n",
       "      div.appendChild(label);\n",
       "      const progress = document.createElement('progress');\n",
       "      progress.max = size;\n",
       "      div.appendChild(progress);\n",
       "      document.body.appendChild(div);\n",
       "\n",
       "      const buffers = [];\n",
       "      let downloaded = 0;\n",
       "\n",
       "      const channel = await google.colab.kernel.comms.open(id);\n",
       "      // Send a message to notify the kernel that we're ready.\n",
       "      channel.send({})\n",
       "\n",
       "      for await (const message of channel.messages) {\n",
       "        // Send a message to notify the kernel that we're ready.\n",
       "        channel.send({})\n",
       "        if (message.buffers) {\n",
       "          for (const buffer of message.buffers) {\n",
       "            buffers.push(buffer);\n",
       "            downloaded += buffer.byteLength;\n",
       "            progress.value = downloaded;\n",
       "          }\n",
       "        }\n",
       "      }\n",
       "      const blob = new Blob(buffers, {type: 'application/binary'});\n",
       "      const a = document.createElement('a');\n",
       "      a.href = window.URL.createObjectURL(blob);\n",
       "      a.download = filename;\n",
       "      div.appendChild(a);\n",
       "      a.click();\n",
       "      div.remove();\n",
       "    }\n",
       "  "
      ],
      "text/plain": [
       "<IPython.core.display.Javascript object>"
      ]
     },
     "metadata": {},
     "output_type": "display_data"
    },
    {
     "data": {
      "application/javascript": [
       "download(\"download_d4d2f2b6-610d-4229-80c0-9a12e80ec426\", \"predictions.csv\", 212908)"
      ],
      "text/plain": [
       "<IPython.core.display.Javascript object>"
      ]
     },
     "metadata": {},
     "output_type": "display_data"
    }
   ],
   "source": [
    "predictions = pd.DataFrame({'ImageId': np.arange(1,28001,1), \n",
    "                            'Label': dcnn(pred_dataset.data).softmax(dim=1).max(dim=1)[1].detach().cpu().numpy()})\n",
    "\n",
    "with open('predictions.csv','w') as file:\n",
    "    file.write(predictions.to_csv(index=False))\n",
    "files.download('predictions.csv')"
   ]
  },
  {
   "cell_type": "code",
   "execution_count": 1,
   "id": "25cc1032",
   "metadata": {},
   "outputs": [
    {
     "name": "stdout",
     "output_type": "stream",
     "text": [
      "Accuracy Score: 0.980714\r\n",
      "Indicative Percentile Rank: 45.314531\r\n"
     ]
    }
   ],
   "source": [
    "!python ../score.py"
   ]
  },
  {
   "cell_type": "code",
   "execution_count": null,
   "id": "e4e4165b",
   "metadata": {},
   "outputs": [],
   "source": []
  }
 ],
 "metadata": {
  "colab": {
   "provenance": []
  },
  "kernelspec": {
   "display_name": "Python 3 (ipykernel)",
   "language": "python",
   "name": "python3"
  },
  "language_info": {
   "codemirror_mode": {
    "name": "ipython",
    "version": 3
   },
   "file_extension": ".py",
   "mimetype": "text/x-python",
   "name": "python",
   "nbconvert_exporter": "python",
   "pygments_lexer": "ipython3",
   "version": "3.10.8"
  }
 },
 "nbformat": 4,
 "nbformat_minor": 5
}
